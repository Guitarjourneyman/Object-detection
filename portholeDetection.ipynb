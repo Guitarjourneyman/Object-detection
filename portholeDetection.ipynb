{
  "nbformat": 4,
  "nbformat_minor": 0,
  "metadata": {
    "colab": {
      "provenance": [],
      "gpuType": "T4",
      "mount_file_id": "17Xo_lm0K5gV3rSzdH5pVR3xol8t9EaA2",
      "authorship_tag": "ABX9TyNPy1c60v/13zNZfJ2C0ziN",
      "include_colab_link": true
    },
    "kernelspec": {
      "name": "python3",
      "display_name": "Python 3"
    },
    "language_info": {
      "name": "python"
    },
    "accelerator": "GPU"
  },
  "cells": [
    {
      "cell_type": "markdown",
      "metadata": {
        "id": "view-in-github",
        "colab_type": "text"
      },
      "source": [
        "<a href=\"https://colab.research.google.com/github/Guitarjourneyman/Object-detection/blob/main/portholeDetection.ipynb\" target=\"_parent\"><img src=\"https://colab.research.google.com/assets/colab-badge.svg\" alt=\"Open In Colab\"/></a>"
      ]
    },
    {
      "cell_type": "code",
      "execution_count": 1,
      "metadata": {
        "colab": {
          "base_uri": "https://localhost:8080/"
        },
        "id": "XYIp_1NqUgBi",
        "outputId": "05b760c6-1d29-4d37-f611-160ad7c803d2"
      },
      "outputs": [
        {
          "output_type": "stream",
          "name": "stdout",
          "text": [
            "Collecting roboflow\n",
            "  Downloading roboflow-1.2.9-py3-none-any.whl.metadata (9.7 kB)\n",
            "Requirement already satisfied: certifi in /usr/local/lib/python3.12/dist-packages (from roboflow) (2025.8.3)\n",
            "Collecting idna==3.7 (from roboflow)\n",
            "  Downloading idna-3.7-py3-none-any.whl.metadata (9.9 kB)\n",
            "Requirement already satisfied: cycler in /usr/local/lib/python3.12/dist-packages (from roboflow) (0.12.1)\n",
            "Requirement already satisfied: kiwisolver>=1.3.1 in /usr/local/lib/python3.12/dist-packages (from roboflow) (1.4.9)\n",
            "Requirement already satisfied: matplotlib in /usr/local/lib/python3.12/dist-packages (from roboflow) (3.10.0)\n",
            "Requirement already satisfied: numpy>=1.18.5 in /usr/local/lib/python3.12/dist-packages (from roboflow) (2.0.2)\n",
            "Collecting opencv-python-headless==4.10.0.84 (from roboflow)\n",
            "  Downloading opencv_python_headless-4.10.0.84-cp37-abi3-manylinux_2_17_x86_64.manylinux2014_x86_64.whl.metadata (20 kB)\n",
            "Requirement already satisfied: Pillow>=7.1.2 in /usr/local/lib/python3.12/dist-packages (from roboflow) (11.3.0)\n",
            "Collecting pi-heif<2 (from roboflow)\n",
            "  Downloading pi_heif-1.1.0-cp312-cp312-manylinux_2_27_x86_64.manylinux_2_28_x86_64.whl.metadata (6.5 kB)\n",
            "Collecting pillow-avif-plugin<2 (from roboflow)\n",
            "  Downloading pillow_avif_plugin-1.5.2-cp312-cp312-manylinux_2_28_x86_64.whl.metadata (2.1 kB)\n",
            "Requirement already satisfied: python-dateutil in /usr/local/lib/python3.12/dist-packages (from roboflow) (2.9.0.post0)\n",
            "Requirement already satisfied: python-dotenv in /usr/local/lib/python3.12/dist-packages (from roboflow) (1.1.1)\n",
            "Requirement already satisfied: requests in /usr/local/lib/python3.12/dist-packages (from roboflow) (2.32.4)\n",
            "Requirement already satisfied: six in /usr/local/lib/python3.12/dist-packages (from roboflow) (1.17.0)\n",
            "Requirement already satisfied: urllib3>=1.26.6 in /usr/local/lib/python3.12/dist-packages (from roboflow) (2.5.0)\n",
            "Requirement already satisfied: tqdm>=4.41.0 in /usr/local/lib/python3.12/dist-packages (from roboflow) (4.67.1)\n",
            "Requirement already satisfied: PyYAML>=5.3.1 in /usr/local/lib/python3.12/dist-packages (from roboflow) (6.0.2)\n",
            "Requirement already satisfied: requests-toolbelt in /usr/local/lib/python3.12/dist-packages (from roboflow) (1.0.0)\n",
            "Collecting filetype (from roboflow)\n",
            "  Downloading filetype-1.2.0-py2.py3-none-any.whl.metadata (6.5 kB)\n",
            "Requirement already satisfied: contourpy>=1.0.1 in /usr/local/lib/python3.12/dist-packages (from matplotlib->roboflow) (1.3.3)\n",
            "Requirement already satisfied: fonttools>=4.22.0 in /usr/local/lib/python3.12/dist-packages (from matplotlib->roboflow) (4.60.0)\n",
            "Requirement already satisfied: packaging>=20.0 in /usr/local/lib/python3.12/dist-packages (from matplotlib->roboflow) (25.0)\n",
            "Requirement already satisfied: pyparsing>=2.3.1 in /usr/local/lib/python3.12/dist-packages (from matplotlib->roboflow) (3.2.4)\n",
            "Requirement already satisfied: charset_normalizer<4,>=2 in /usr/local/lib/python3.12/dist-packages (from requests->roboflow) (3.4.3)\n",
            "Downloading roboflow-1.2.9-py3-none-any.whl (88 kB)\n",
            "\u001b[2K   \u001b[90m━━━━━━━━━━━━━━━━━━━━━━━━━━━━━━━━━━━━━━━━\u001b[0m \u001b[32m88.7/88.7 kB\u001b[0m \u001b[31m8.8 MB/s\u001b[0m eta \u001b[36m0:00:00\u001b[0m\n",
            "\u001b[?25hDownloading idna-3.7-py3-none-any.whl (66 kB)\n",
            "\u001b[2K   \u001b[90m━━━━━━━━━━━━━━━━━━━━━━━━━━━━━━━━━━━━━━━━\u001b[0m \u001b[32m66.8/66.8 kB\u001b[0m \u001b[31m7.3 MB/s\u001b[0m eta \u001b[36m0:00:00\u001b[0m\n",
            "\u001b[?25hDownloading opencv_python_headless-4.10.0.84-cp37-abi3-manylinux_2_17_x86_64.manylinux2014_x86_64.whl (49.9 MB)\n",
            "\u001b[2K   \u001b[90m━━━━━━━━━━━━━━━━━━━━━━━━━━━━━━━━━━━━━━━━\u001b[0m \u001b[32m49.9/49.9 MB\u001b[0m \u001b[31m13.3 MB/s\u001b[0m eta \u001b[36m0:00:00\u001b[0m\n",
            "\u001b[?25hDownloading pi_heif-1.1.0-cp312-cp312-manylinux_2_27_x86_64.manylinux_2_28_x86_64.whl (1.4 MB)\n",
            "\u001b[2K   \u001b[90m━━━━━━━━━━━━━━━━━━━━━━━━━━━━━━━━━━━━━━━━\u001b[0m \u001b[32m1.4/1.4 MB\u001b[0m \u001b[31m62.9 MB/s\u001b[0m eta \u001b[36m0:00:00\u001b[0m\n",
            "\u001b[?25hDownloading pillow_avif_plugin-1.5.2-cp312-cp312-manylinux_2_28_x86_64.whl (4.2 MB)\n",
            "\u001b[2K   \u001b[90m━━━━━━━━━━━━━━━━━━━━━━━━━━━━━━━━━━━━━━━━\u001b[0m \u001b[32m4.2/4.2 MB\u001b[0m \u001b[31m69.2 MB/s\u001b[0m eta \u001b[36m0:00:00\u001b[0m\n",
            "\u001b[?25hDownloading filetype-1.2.0-py2.py3-none-any.whl (19 kB)\n",
            "Installing collected packages: pillow-avif-plugin, filetype, pi-heif, opencv-python-headless, idna, roboflow\n",
            "  Attempting uninstall: opencv-python-headless\n",
            "    Found existing installation: opencv-python-headless 4.12.0.88\n",
            "    Uninstalling opencv-python-headless-4.12.0.88:\n",
            "      Successfully uninstalled opencv-python-headless-4.12.0.88\n",
            "  Attempting uninstall: idna\n",
            "    Found existing installation: idna 3.10\n",
            "    Uninstalling idna-3.10:\n",
            "      Successfully uninstalled idna-3.10\n",
            "Successfully installed filetype-1.2.0 idna-3.7 opencv-python-headless-4.10.0.84 pi-heif-1.1.0 pillow-avif-plugin-1.5.2 roboflow-1.2.9\n",
            "loading Roboflow workspace...\n",
            "loading Roboflow project...\n"
          ]
        },
        {
          "output_type": "stream",
          "name": "stderr",
          "text": [
            "Downloading Dataset Version Zip in Pothole-1 to yolov5pytorch:: 100%|██████████| 33016/33016 [00:03<00:00, 8415.20it/s] "
          ]
        },
        {
          "output_type": "stream",
          "name": "stdout",
          "text": [
            "\n"
          ]
        },
        {
          "output_type": "stream",
          "name": "stderr",
          "text": [
            "\n",
            "Extracting Dataset Version Zip to Pothole-1 in yolov5pytorch:: 100%|██████████| 1122/1122 [00:00<00:00, 7638.51it/s]\n"
          ]
        }
      ],
      "source": [
        "!pip install roboflow\n",
        "\n",
        "from roboflow import Roboflow\n",
        "rf = Roboflow(api_key=\"ccZy59bvyQmmgjjnMEg2\")\n",
        "project = rf.workspace(\"umat\").project(\"pothole-abpqz\")\n",
        "version = project.version(1)\n",
        "dataset = version.download(\"yolov5\")\n",
        ""
      ]
    },
    {
      "cell_type": "markdown",
      "metadata": {
        "id": "d9ef3551"
      },
      "source": [
        "# Task\n",
        "Train and test a YOLOv5 model using the dataset located in \"content/Prthole-1/train\" and \"content/Prthole-1/test\"."
      ]
    },
    {
      "cell_type": "markdown",
      "metadata": {
        "id": "345a1d77"
      },
      "source": [
        "## Install dependencies\n",
        "\n",
        "### Subtask:\n",
        "Install the required libraries for YOLOv5.\n"
      ]
    },
    {
      "cell_type": "markdown",
      "metadata": {
        "id": "2a8618a6"
      },
      "source": [
        "**Reasoning**:\n",
        "Clone the YOLOv5 repository and install the required libraries.\n",
        "\n"
      ]
    },
    {
      "cell_type": "code",
      "metadata": {
        "colab": {
          "base_uri": "https://localhost:8080/"
        },
        "id": "d0b8637e",
        "outputId": "264f11bf-deb2-4078-d078-b5a99a1629b4"
      },
      "source": [
        "!git clone https://github.com/ultralytics/yolov5\n",
        "%cd yolov5\n",
        "!pip install -r requirements.txt"
      ],
      "execution_count": 3,
      "outputs": [
        {
          "output_type": "stream",
          "name": "stdout",
          "text": [
            "Cloning into 'yolov5'...\n",
            "remote: Enumerating objects: 17582, done.\u001b[K\n",
            "remote: Counting objects: 100% (5/5), done.\u001b[K\n",
            "remote: Compressing objects: 100% (5/5), done.\u001b[K\n",
            "remote: Total 17582 (delta 0), reused 0 (delta 0), pack-reused 17577 (from 1)\u001b[K\n",
            "Receiving objects: 100% (17582/17582), 16.81 MiB | 9.24 MiB/s, done.\n",
            "Resolving deltas: 100% (11970/11970), done.\n",
            "/content/yolov5/yolov5\n",
            "Requirement already satisfied: gitpython>=3.1.30 in /usr/local/lib/python3.12/dist-packages (from -r requirements.txt (line 5)) (3.1.45)\n",
            "Requirement already satisfied: matplotlib>=3.3 in /usr/local/lib/python3.12/dist-packages (from -r requirements.txt (line 6)) (3.10.0)\n",
            "Requirement already satisfied: numpy>=1.23.5 in /usr/local/lib/python3.12/dist-packages (from -r requirements.txt (line 7)) (2.0.2)\n",
            "Requirement already satisfied: opencv-python>=4.1.1 in /usr/local/lib/python3.12/dist-packages (from -r requirements.txt (line 8)) (4.12.0.88)\n",
            "Requirement already satisfied: pillow>=10.3.0 in /usr/local/lib/python3.12/dist-packages (from -r requirements.txt (line 9)) (11.3.0)\n",
            "Requirement already satisfied: psutil in /usr/local/lib/python3.12/dist-packages (from -r requirements.txt (line 10)) (5.9.5)\n",
            "Requirement already satisfied: PyYAML>=5.3.1 in /usr/local/lib/python3.12/dist-packages (from -r requirements.txt (line 11)) (6.0.2)\n",
            "Requirement already satisfied: requests>=2.32.2 in /usr/local/lib/python3.12/dist-packages (from -r requirements.txt (line 12)) (2.32.4)\n",
            "Requirement already satisfied: scipy>=1.4.1 in /usr/local/lib/python3.12/dist-packages (from -r requirements.txt (line 13)) (1.16.2)\n",
            "Requirement already satisfied: thop>=0.1.1 in /usr/local/lib/python3.12/dist-packages (from -r requirements.txt (line 14)) (0.1.1.post2209072238)\n",
            "Requirement already satisfied: torch>=1.8.0 in /usr/local/lib/python3.12/dist-packages (from -r requirements.txt (line 15)) (2.8.0+cu126)\n",
            "Requirement already satisfied: torchvision>=0.9.0 in /usr/local/lib/python3.12/dist-packages (from -r requirements.txt (line 16)) (0.23.0+cu126)\n",
            "Requirement already satisfied: tqdm>=4.66.3 in /usr/local/lib/python3.12/dist-packages (from -r requirements.txt (line 17)) (4.67.1)\n",
            "Requirement already satisfied: ultralytics>=8.2.64 in /usr/local/lib/python3.12/dist-packages (from -r requirements.txt (line 18)) (8.3.203)\n",
            "Requirement already satisfied: pandas>=1.1.4 in /usr/local/lib/python3.12/dist-packages (from -r requirements.txt (line 27)) (2.2.2)\n",
            "Requirement already satisfied: seaborn>=0.11.0 in /usr/local/lib/python3.12/dist-packages (from -r requirements.txt (line 28)) (0.13.2)\n",
            "Requirement already satisfied: packaging in /usr/local/lib/python3.12/dist-packages (from -r requirements.txt (line 42)) (25.0)\n",
            "Requirement already satisfied: setuptools>=70.0.0 in /usr/local/lib/python3.12/dist-packages (from -r requirements.txt (line 43)) (75.2.0)\n",
            "Requirement already satisfied: gitdb<5,>=4.0.1 in /usr/local/lib/python3.12/dist-packages (from gitpython>=3.1.30->-r requirements.txt (line 5)) (4.0.12)\n",
            "Requirement already satisfied: contourpy>=1.0.1 in /usr/local/lib/python3.12/dist-packages (from matplotlib>=3.3->-r requirements.txt (line 6)) (1.3.3)\n",
            "Requirement already satisfied: cycler>=0.10 in /usr/local/lib/python3.12/dist-packages (from matplotlib>=3.3->-r requirements.txt (line 6)) (0.12.1)\n",
            "Requirement already satisfied: fonttools>=4.22.0 in /usr/local/lib/python3.12/dist-packages (from matplotlib>=3.3->-r requirements.txt (line 6)) (4.60.0)\n",
            "Requirement already satisfied: kiwisolver>=1.3.1 in /usr/local/lib/python3.12/dist-packages (from matplotlib>=3.3->-r requirements.txt (line 6)) (1.4.9)\n",
            "Requirement already satisfied: pyparsing>=2.3.1 in /usr/local/lib/python3.12/dist-packages (from matplotlib>=3.3->-r requirements.txt (line 6)) (3.2.4)\n",
            "Requirement already satisfied: python-dateutil>=2.7 in /usr/local/lib/python3.12/dist-packages (from matplotlib>=3.3->-r requirements.txt (line 6)) (2.9.0.post0)\n",
            "Requirement already satisfied: charset_normalizer<4,>=2 in /usr/local/lib/python3.12/dist-packages (from requests>=2.32.2->-r requirements.txt (line 12)) (3.4.3)\n",
            "Requirement already satisfied: idna<4,>=2.5 in /usr/local/lib/python3.12/dist-packages (from requests>=2.32.2->-r requirements.txt (line 12)) (3.7)\n",
            "Requirement already satisfied: urllib3<3,>=1.21.1 in /usr/local/lib/python3.12/dist-packages (from requests>=2.32.2->-r requirements.txt (line 12)) (2.5.0)\n",
            "Requirement already satisfied: certifi>=2017.4.17 in /usr/local/lib/python3.12/dist-packages (from requests>=2.32.2->-r requirements.txt (line 12)) (2025.8.3)\n",
            "Requirement already satisfied: filelock in /usr/local/lib/python3.12/dist-packages (from torch>=1.8.0->-r requirements.txt (line 15)) (3.19.1)\n",
            "Requirement already satisfied: typing-extensions>=4.10.0 in /usr/local/lib/python3.12/dist-packages (from torch>=1.8.0->-r requirements.txt (line 15)) (4.15.0)\n",
            "Requirement already satisfied: sympy>=1.13.3 in /usr/local/lib/python3.12/dist-packages (from torch>=1.8.0->-r requirements.txt (line 15)) (1.13.3)\n",
            "Requirement already satisfied: networkx in /usr/local/lib/python3.12/dist-packages (from torch>=1.8.0->-r requirements.txt (line 15)) (3.5)\n",
            "Requirement already satisfied: jinja2 in /usr/local/lib/python3.12/dist-packages (from torch>=1.8.0->-r requirements.txt (line 15)) (3.1.6)\n",
            "Requirement already satisfied: fsspec in /usr/local/lib/python3.12/dist-packages (from torch>=1.8.0->-r requirements.txt (line 15)) (2025.3.0)\n",
            "Requirement already satisfied: nvidia-cuda-nvrtc-cu12==12.6.77 in /usr/local/lib/python3.12/dist-packages (from torch>=1.8.0->-r requirements.txt (line 15)) (12.6.77)\n",
            "Requirement already satisfied: nvidia-cuda-runtime-cu12==12.6.77 in /usr/local/lib/python3.12/dist-packages (from torch>=1.8.0->-r requirements.txt (line 15)) (12.6.77)\n",
            "Requirement already satisfied: nvidia-cuda-cupti-cu12==12.6.80 in /usr/local/lib/python3.12/dist-packages (from torch>=1.8.0->-r requirements.txt (line 15)) (12.6.80)\n",
            "Requirement already satisfied: nvidia-cudnn-cu12==9.10.2.21 in /usr/local/lib/python3.12/dist-packages (from torch>=1.8.0->-r requirements.txt (line 15)) (9.10.2.21)\n",
            "Requirement already satisfied: nvidia-cublas-cu12==12.6.4.1 in /usr/local/lib/python3.12/dist-packages (from torch>=1.8.0->-r requirements.txt (line 15)) (12.6.4.1)\n",
            "Requirement already satisfied: nvidia-cufft-cu12==11.3.0.4 in /usr/local/lib/python3.12/dist-packages (from torch>=1.8.0->-r requirements.txt (line 15)) (11.3.0.4)\n",
            "Requirement already satisfied: nvidia-curand-cu12==10.3.7.77 in /usr/local/lib/python3.12/dist-packages (from torch>=1.8.0->-r requirements.txt (line 15)) (10.3.7.77)\n",
            "Requirement already satisfied: nvidia-cusolver-cu12==11.7.1.2 in /usr/local/lib/python3.12/dist-packages (from torch>=1.8.0->-r requirements.txt (line 15)) (11.7.1.2)\n",
            "Requirement already satisfied: nvidia-cusparse-cu12==12.5.4.2 in /usr/local/lib/python3.12/dist-packages (from torch>=1.8.0->-r requirements.txt (line 15)) (12.5.4.2)\n",
            "Requirement already satisfied: nvidia-cusparselt-cu12==0.7.1 in /usr/local/lib/python3.12/dist-packages (from torch>=1.8.0->-r requirements.txt (line 15)) (0.7.1)\n",
            "Requirement already satisfied: nvidia-nccl-cu12==2.27.3 in /usr/local/lib/python3.12/dist-packages (from torch>=1.8.0->-r requirements.txt (line 15)) (2.27.3)\n",
            "Requirement already satisfied: nvidia-nvtx-cu12==12.6.77 in /usr/local/lib/python3.12/dist-packages (from torch>=1.8.0->-r requirements.txt (line 15)) (12.6.77)\n",
            "Requirement already satisfied: nvidia-nvjitlink-cu12==12.6.85 in /usr/local/lib/python3.12/dist-packages (from torch>=1.8.0->-r requirements.txt (line 15)) (12.6.85)\n",
            "Requirement already satisfied: nvidia-cufile-cu12==1.11.1.6 in /usr/local/lib/python3.12/dist-packages (from torch>=1.8.0->-r requirements.txt (line 15)) (1.11.1.6)\n",
            "Requirement already satisfied: triton==3.4.0 in /usr/local/lib/python3.12/dist-packages (from torch>=1.8.0->-r requirements.txt (line 15)) (3.4.0)\n",
            "Requirement already satisfied: polars in /usr/local/lib/python3.12/dist-packages (from ultralytics>=8.2.64->-r requirements.txt (line 18)) (1.25.2)\n",
            "Requirement already satisfied: ultralytics-thop>=2.0.0 in /usr/local/lib/python3.12/dist-packages (from ultralytics>=8.2.64->-r requirements.txt (line 18)) (2.0.17)\n",
            "Requirement already satisfied: pytz>=2020.1 in /usr/local/lib/python3.12/dist-packages (from pandas>=1.1.4->-r requirements.txt (line 27)) (2025.2)\n",
            "Requirement already satisfied: tzdata>=2022.7 in /usr/local/lib/python3.12/dist-packages (from pandas>=1.1.4->-r requirements.txt (line 27)) (2025.2)\n",
            "Requirement already satisfied: smmap<6,>=3.0.1 in /usr/local/lib/python3.12/dist-packages (from gitdb<5,>=4.0.1->gitpython>=3.1.30->-r requirements.txt (line 5)) (5.0.2)\n",
            "Requirement already satisfied: six>=1.5 in /usr/local/lib/python3.12/dist-packages (from python-dateutil>=2.7->matplotlib>=3.3->-r requirements.txt (line 6)) (1.17.0)\n",
            "Requirement already satisfied: mpmath<1.4,>=1.1.0 in /usr/local/lib/python3.12/dist-packages (from sympy>=1.13.3->torch>=1.8.0->-r requirements.txt (line 15)) (1.3.0)\n",
            "Requirement already satisfied: MarkupSafe>=2.0 in /usr/local/lib/python3.12/dist-packages (from jinja2->torch>=1.8.0->-r requirements.txt (line 15)) (3.0.2)\n"
          ]
        }
      ]
    },
    {
      "cell_type": "markdown",
      "metadata": {
        "id": "c683c432"
      },
      "source": [
        "## Prepare data\n",
        "\n",
        "### Subtask:\n",
        "Ensure the dataset is in the correct format and location for YOLOv5 training.\n"
      ]
    },
    {
      "cell_type": "markdown",
      "metadata": {
        "id": "c162b8e7"
      },
      "source": [
        "**Reasoning**:\n",
        "Verify the dataset directory structure and content to ensure it's in the correct format for YOLOv5 and located in the specified content directory.\n",
        "\n"
      ]
    },
    {
      "cell_type": "code",
      "metadata": {
        "colab": {
          "base_uri": "https://localhost:8080/"
        },
        "id": "1903c44a",
        "outputId": "e9254c3f-f721-4c0d-eca7-40faa968ad7e"
      },
      "source": [
        "import os\n",
        "import glob\n",
        "\n",
        "# Define the expected dataset path\n",
        "dataset_path = '/content/Pothole-1' # Correct path relative to the current working directory (yolov5)\n",
        "\n",
        "# Verify the dataset directory exists\n",
        "if not os.path.exists(dataset_path):\n",
        "    print(f\"Error: Dataset directory not found at {dataset_path}\")\n",
        "else:\n",
        "    print(f\"Dataset directory found at {dataset_path}\")\n",
        "\n",
        "    # Define expected subdirectories\n",
        "    expected_subdirs = ['train', 'test']\n",
        "    for subdir in expected_subdirs:\n",
        "        subdir_path = os.path.join(dataset_path, subdir)\n",
        "        if not os.path.exists(subdir_path):\n",
        "            print(f\"Error: Expected subdirectory not found: {subdir_path}\")\n",
        "        else:\n",
        "            print(f\"Subdirectory found: {subdir_path}\")\n",
        "            # Verify images and labels directories within each split\n",
        "            image_dir = os.path.join(subdir_path, 'images')\n",
        "            label_dir = os.path.join(subdir_path, 'labels')\n",
        "\n",
        "            if not os.path.exists(image_dir):\n",
        "                print(f\"Error: Images directory not found: {image_dir}\")\n",
        "            else:\n",
        "                print(f\"Images directory found: {image_dir}\")\n",
        "\n",
        "            if not os.path.exists(label_dir):\n",
        "                print(f\"Error: Labels directory not found: {label_dir}\")\n",
        "            else:\n",
        "                print(f\"Labels directory found: {label_dir}\")\n",
        "\n",
        "            # Check for corresponding image and label files\n",
        "            image_files = glob.glob(os.path.join(image_dir, '*'))\n",
        "            label_files = glob.glob(os.path.join(label_dir, '*'))\n",
        "\n",
        "            print(f\"Found {len(image_files)} image files in {image_dir}\")\n",
        "            print(f\"Found {len(label_files)} label files in {label_dir}\")\n",
        "\n",
        "            # Basic check for file correspondence (by count and name prefix)\n",
        "            if len(image_files) != len(label_files):\n",
        "                 print(f\"Warning: Number of images and labels in {subdir_path} do not match.\")\n",
        "            else:\n",
        "                print(f\"Number of images and labels match in {subdir_path}.\")\n",
        "\n",
        "            # Further check by comparing base names\n",
        "            image_basenames = set([os.path.splitext(os.path.basename(f))[0] for f in image_files])\n",
        "            label_basenames = set([os.path.splitext(os.path.basename(f))[0] for f in label_files])\n",
        "\n",
        "            if image_basenames != label_basenames:\n",
        "                 print(f\"Warning: Basenames of images and labels in {subdir_path} do not match.\")\n",
        "            else:\n",
        "                print(f\"Basenames of images and labels match in {subdir_path}.\")\n",
        "\n",
        "\n",
        "    # Check a sample label file format (optional, but good practice)\n",
        "    sample_label_file = None\n",
        "    for subdir in expected_subdirs:\n",
        "        label_files = glob.glob(os.path.join(dataset_path, subdir, 'labels', '*.txt'))\n",
        "        if label_files:\n",
        "            sample_label_file = label_files[0]\n",
        "            break\n",
        "\n",
        "    if sample_label_file:\n",
        "        print(f\"Checking sample label file: {sample_label_file}\")\n",
        "        with open(sample_label_file, 'r') as f:\n",
        "            lines = f.readlines()\n",
        "            if lines:\n",
        "                first_line = lines[0].strip().split()\n",
        "                # Expecting at least 5 values: class_id, center_x, center_y, width, height\n",
        "                if len(first_line) >= 5:\n",
        "                    try:\n",
        "                        # Check if the values are convertible to float\n",
        "                        _ = [float(val) for val in first_line]\n",
        "                        print(\"Sample label file appears to be in correct YOLO format.\")\n",
        "                    except ValueError:\n",
        "                        print(\"Error: Sample label file does not contain valid numeric values.\")\n",
        "                else:\n",
        "                    print(\"Error: Sample label file does not have enough columns (expected at least 5).\")\n",
        "            else:\n",
        "                print(\"Warning: Sample label file is empty.\")\n",
        "    else:\n",
        "        print(\"No label files found to check format.\")\n"
      ],
      "execution_count": 6,
      "outputs": [
        {
          "output_type": "stream",
          "name": "stdout",
          "text": [
            "Dataset directory found at /content/Pothole-1\n",
            "Subdirectory found: /content/Pothole-1/train\n",
            "Images directory found: /content/Pothole-1/train/images\n",
            "Labels directory found: /content/Pothole-1/train/labels\n",
            "Found 389 image files in /content/Pothole-1/train/images\n",
            "Found 389 label files in /content/Pothole-1/train/labels\n",
            "Number of images and labels match in /content/Pothole-1/train.\n",
            "Basenames of images and labels match in /content/Pothole-1/train.\n",
            "Subdirectory found: /content/Pothole-1/test\n",
            "Images directory found: /content/Pothole-1/test/images\n",
            "Labels directory found: /content/Pothole-1/test/labels\n",
            "Found 55 image files in /content/Pothole-1/test/images\n",
            "Found 55 label files in /content/Pothole-1/test/labels\n",
            "Number of images and labels match in /content/Pothole-1/test.\n",
            "Basenames of images and labels match in /content/Pothole-1/test.\n",
            "Checking sample label file: /content/Pothole-1/train/labels/images199_jpg.rf.4df543b87f7568b315eac958ca01e4b1.txt\n",
            "Sample label file appears to be in correct YOLO format.\n"
          ]
        }
      ]
    },
    {
      "cell_type": "markdown",
      "metadata": {
        "id": "e59db152"
      },
      "source": [
        "## Configure Training\n",
        "\n",
        "### Subtask:\n",
        "Create a YAML configuration file for YOLOv5 training."
      ]
    },
    {
      "cell_type": "markdown",
      "metadata": {
        "id": "2f680c47"
      },
      "source": [
        "**Reasoning**:\n",
        "Create a `data.yaml` file in the YOLOv5 directory. This file will contain the paths to the training and testing images and labels, as well as the number of classes and their names."
      ]
    },
    {
      "cell_type": "code",
      "metadata": {
        "colab": {
          "base_uri": "https://localhost:8080/"
        },
        "id": "b1affd29",
        "outputId": "2b9e5f46-13aa-4f31-c017-1d18a8987e8c"
      },
      "source": [
        "import yaml\n",
        "import os\n",
        "\n",
        "# Define the path to the dataset\n",
        "dataset_path = '/content/Pothole-1'\n",
        "\n",
        "# Define the path where the data.yaml file will be saved (within the yolov5 directory)\n",
        "yaml_path = '/content/yolov5/data/pothole_data.yaml'\n",
        "\n",
        "# Define the number of classes and class names\n",
        "nc = 1 # Number of classes (pothole)\n",
        "names = ['pothole'] # Class names\n",
        "\n",
        "# Create the data dictionary\n",
        "data = {\n",
        "    'train': os.path.join(dataset_path, 'train', 'images'),\n",
        "    'val': os.path.join(dataset_path, 'test', 'images'), # Using test for validation as per the task\n",
        "    'nc': nc,\n",
        "    'names': names\n",
        "}\n",
        "\n",
        "# Write the data dictionary to the YAML file\n",
        "with open(yaml_path, 'w') as f:\n",
        "    yaml.dump(data, f)\n",
        "\n",
        "print(f\"Created data.yaml file at: {yaml_path}\")"
      ],
      "execution_count": 8,
      "outputs": [
        {
          "output_type": "stream",
          "name": "stdout",
          "text": [
            "Created data.yaml file at: /content/yolov5/data/pothole_data.yaml\n"
          ]
        }
      ]
    },
    {
      "cell_type": "markdown",
      "metadata": {
        "id": "142dee82"
      },
      "source": [
        "## Train Model\n",
        "\n",
        "### Subtask:\n",
        "Train the YOLOv5 model using the configured dataset."
      ]
    },
    {
      "cell_type": "markdown",
      "metadata": {
        "id": "865c548e"
      },
      "source": [
        "**Reasoning**:\n",
        "Run the YOLOv5 training script with the `pothole_data.yaml` file."
      ]
    },
    {
      "cell_type": "markdown",
      "metadata": {
        "id": "46eddbb8"
      },
      "source": [
        "## Evaluate Model\n",
        "\n",
        "### Subtask:\n",
        "Run the YOLOv5 testing script to evaluate the trained model."
      ]
    },
    {
      "cell_type": "markdown",
      "metadata": {
        "id": "894c6d5c"
      },
      "source": [
        "**Reasoning**:\n",
        "Run the YOLOv5 validation script (`val.py`) with the trained weights and the data configuration file."
      ]
    },
    {
      "cell_type": "code",
      "metadata": {
        "colab": {
          "base_uri": "https://localhost:8080/"
        },
        "id": "3941cc4b",
        "outputId": "21fb4995-f136-458f-bdfa-a5915e2ffacc"
      },
      "source": [
        "!python val.py --weights runs/train/exp/weights/best.pt --data /content/yolov5/data/pothole_data.yaml --img 640 --task val"
      ],
      "execution_count": 12,
      "outputs": [
        {
          "output_type": "stream",
          "name": "stdout",
          "text": [
            "\u001b[34m\u001b[1mval: \u001b[0mdata=/content/yolov5/data/pothole_data.yaml, weights=['runs/train/exp/weights/best.pt'], batch_size=32, imgsz=640, conf_thres=0.001, iou_thres=0.6, max_det=300, task=val, device=, workers=8, single_cls=False, augment=False, verbose=False, save_txt=False, save_hybrid=False, save_conf=False, save_json=False, project=runs/val, name=exp, exist_ok=False, half=False, dnn=False\n",
            "YOLOv5 🚀 v7.0-432-g725b922e Python-3.12.11 torch-2.8.0+cu126 CUDA:0 (Tesla T4, 15095MiB)\n",
            "\n",
            "Fusing layers... \n",
            "Model summary: 157 layers, 7012822 parameters, 0 gradients, 15.8 GFLOPs\n",
            "\u001b[34m\u001b[1mval: \u001b[0mScanning /content/Pothole-1/test/labels.cache... 55 images, 0 backgrounds, 0 corrupt: 100% 55/55 [00:00<?, ?it/s]\n",
            "                 Class     Images  Instances          P          R      mAP50   mAP50-95: 100% 2/2 [00:02<00:00,  1.30s/it]\n",
            "                   all         55        193      0.822      0.837      0.861      0.645\n",
            "Speed: 0.4ms pre-process, 10.3ms inference, 4.6ms NMS per image at shape (32, 3, 640, 640)\n",
            "Results saved to \u001b[1mruns/val/exp2\u001b[0m\n"
          ]
        }
      ]
    },
    {
      "cell_type": "markdown",
      "metadata": {
        "id": "46097f96"
      },
      "source": [
        "## Finish task\n",
        "\n",
        "Summarize the results and provide insights into the model's performance."
      ]
    }
  ]
}